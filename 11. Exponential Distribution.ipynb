{
 "cells": [
  {
   "cell_type": "markdown",
   "id": "87210cb4",
   "metadata": {},
   "source": [
    "# Exponential distribution"
   ]
  },
  {
   "cell_type": "raw",
   "id": "3dc621a6",
   "metadata": {},
   "source": [
    "Exponential distribution is used for describing time till next event e.g. failure/success etc."
   ]
  },
  {
   "cell_type": "raw",
   "id": "25ff0e0d",
   "metadata": {},
   "source": [
    "It has two parameters:\n",
    "\n",
    "scale - inverse of rate ( see lam in poisson distribution ) defaults to 1.0.\n",
    "\n",
    "size - The shape of the returned array."
   ]
  },
  {
   "cell_type": "code",
   "execution_count": 1,
   "id": "8611c208",
   "metadata": {},
   "outputs": [
    {
     "name": "stdout",
     "output_type": "stream",
     "text": [
      "[[3.52141791 5.0740162  0.46000003]\n",
      " [0.31571703 0.62870785 2.19210856]]\n"
     ]
    }
   ],
   "source": [
    "# Draw out a sample for exponential distribution with 2.0 scale with 2x3 size:\n",
    "\n",
    "from numpy import random\n",
    "\n",
    "x = random.exponential(scale=2, size=(2, 3))\n",
    "\n",
    "print(x) "
   ]
  },
  {
   "cell_type": "markdown",
   "id": "e033eaff",
   "metadata": {},
   "source": [
    "# Visualization of Exponential Distribution"
   ]
  },
  {
   "cell_type": "code",
   "execution_count": 2,
   "id": "a52f6b2c",
   "metadata": {},
   "outputs": [
    {
     "name": "stderr",
     "output_type": "stream",
     "text": [
      "C:\\Users\\DELL\\anaconda3\\lib\\site-packages\\seaborn\\distributions.py:2557: FutureWarning: `distplot` is a deprecated function and will be removed in a future version. Please adapt your code to use either `displot` (a figure-level function with similar flexibility) or `kdeplot` (an axes-level function for kernel density plots).\n",
      "  warnings.warn(msg, FutureWarning)\n"
     ]
    },
    {
     "data": {
      "image/png": "[encoded data removed]",
      "text/plain": [
       "<Figure size 432x288 with 1 Axes>"
      ]
     },
     "metadata": {
      "needs_background": "light"
     },
     "output_type": "display_data"
    }
   ],
   "source": [
    "from numpy import random\n",
    "import matplotlib.pyplot as plt\n",
    "import seaborn as sns\n",
    "\n",
    "sns.distplot(random.exponential(size=1000), hist=False)\n",
    "\n",
    "plt.show() "
   ]
  },
  {
   "cell_type": "markdown",
   "id": "3f39eadd",
   "metadata": {},
   "source": [
    "# Relation Between Poisson and Exponential Distribution"
   ]
  },
  {
   "cell_type": "raw",
   "id": "efcb2f0e",
   "metadata": {},
   "source": [
    " Poisson distribution deals with number of occurences of an event in a time period whereas exponential distribution deals with the time between these events. "
   ]
  },
  {
   "cell_type": "code",
   "execution_count": null,
   "id": "b3487bad",
   "metadata": {},
   "outputs": [],
   "source": []
  }
 ],
 "metadata": {
  "kernelspec": {
   "display_name": "Python 3",
   "language": "python",
   "name": "python3"
  },
  "language_info": {
   "codemirror_mode": {
    "name": "ipython",
    "version": 3
   },
   "file_extension": ".py",
   "mimetype": "text/x-python",
   "name": "python",
   "nbconvert_exporter": "python",
   "pygments_lexer": "ipython3",
   "version": "3.8.8"
  }
 },
 "nbformat": 4,
 "nbformat_minor": 5
}
