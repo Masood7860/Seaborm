{
 "cells": [
  {
   "cell_type": "markdown",
   "id": "228dd868",
   "metadata": {},
   "source": [
    "# Random Permutations"
   ]
  },
  {
   "cell_type": "markdown",
   "id": "e6a1d66c",
   "metadata": {},
   "source": [
    "# Random Permutations of Elements"
   ]
  },
  {
   "cell_type": "raw",
   "id": "a8ce9501",
   "metadata": {},
   "source": [
    "A permutation refers to an arrangement of elements. e.g. [3, 2, 1] is a permutation of [1, 2, 3] and vice-versa."
   ]
  },
  {
   "cell_type": "raw",
   "id": "d6c9763f",
   "metadata": {},
   "source": [
    "The NumPy Random module provides two methods for this: shuffle() and permutation()."
   ]
  },
  {
   "cell_type": "markdown",
   "id": "d9eb1567",
   "metadata": {},
   "source": [
    "# Shuffling Arrays"
   ]
  },
  {
   "cell_type": "raw",
   "id": "ea26ee72",
   "metadata": {},
   "source": [
    "Shuffle means changing arrangement of elements in-place. i.e. in the array itself."
   ]
  },
  {
   "cell_type": "code",
   "execution_count": 1,
   "id": "2ee12100",
   "metadata": {},
   "outputs": [
    {
     "name": "stdout",
     "output_type": "stream",
     "text": [
      "[4 1 2 5 3]\n"
     ]
    }
   ],
   "source": [
    "# Randomly shuffle elements of following array:\n",
    "\n",
    "from numpy import random\n",
    "import numpy as np\n",
    "\n",
    "arr = np.array([1, 2, 3, 4, 5])\n",
    "\n",
    "random.shuffle(arr)\n",
    "\n",
    "print(arr) "
   ]
  },
  {
   "cell_type": "raw",
   "id": "2e91ec76",
   "metadata": {},
   "source": [
    "The shuffle() method makes changes to the original array."
   ]
  },
  {
   "cell_type": "markdown",
   "id": "16cd9ee9",
   "metadata": {},
   "source": [
    "# Generating Permutation of Arrays"
   ]
  },
  {
   "cell_type": "code",
   "execution_count": 2,
   "id": "d864ebdc",
   "metadata": {},
   "outputs": [
    {
     "name": "stdout",
     "output_type": "stream",
     "text": [
      "[3 5 1 4 2]\n"
     ]
    }
   ],
   "source": [
    "# Generate a random permutation of elements of following array:\n",
    "\n",
    "from numpy import random\n",
    "import numpy as np\n",
    "\n",
    "arr = np.array([1, 2, 3, 4, 5])\n",
    "\n",
    "print(random.permutation(arr)) "
   ]
  },
  {
   "cell_type": "raw",
   "id": "a0e787ec",
   "metadata": {},
   "source": [
    "The permutation() method returns a re-arranged array (and leaves the original array un-changed)."
   ]
  }
 ],
 "metadata": {
  "kernelspec": {
   "display_name": "Python 3",
   "language": "python",
   "name": "python3"
  },
  "language_info": {
   "codemirror_mode": {
    "name": "ipython",
    "version": 3
   },
   "file_extension": ".py",
   "mimetype": "text/x-python",
   "name": "python",
   "nbconvert_exporter": "python",
   "pygments_lexer": "ipython3",
   "version": "3.8.8"
  }
 },
 "nbformat": 4,
 "nbformat_minor": 5
}
