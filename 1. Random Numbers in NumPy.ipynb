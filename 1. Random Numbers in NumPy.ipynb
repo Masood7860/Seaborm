{
 "cells": [
  {
   "cell_type": "markdown",
   "id": "26b612d6",
   "metadata": {},
   "source": [
    "# What is a Random Number?"
   ]
  },
  {
   "cell_type": "raw",
   "id": "c4703d9e",
   "metadata": {},
   "source": [
    "Random number does NOT mean a different number every time. Random means something that can not be predicted logically."
   ]
  },
  {
   "cell_type": "markdown",
   "id": "f3e78274",
   "metadata": {},
   "source": [
    "# Pseudo Random and True Random."
   ]
  },
  {
   "cell_type": "raw",
   "id": "180af48c",
   "metadata": {},
   "source": [
    "Computers work on programs, and programs are definitive set of instructions. So it means there must be some algorithm to generate a random number as well."
   ]
  },
  {
   "cell_type": "raw",
   "id": "48335d52",
   "metadata": {},
   "source": [
    "If there is a program to generate random number it can be predicted, thus it is not truly random."
   ]
  },
  {
   "cell_type": "raw",
   "id": "69db0762",
   "metadata": {},
   "source": [
    "Random numbers generated through a generation algorithm are called pseudo random."
   ]
  },
  {
   "cell_type": "raw",
   "id": "82197ca6",
   "metadata": {},
   "source": [
    "Can we make truly random numbers?"
   ]
  },
  {
   "cell_type": "raw",
   "id": "b4a000e4",
   "metadata": {},
   "source": [
    "Yes. In order to generate a truly random number on our computers we need to get the random data from some outside source. This outside source is generally our keystrokes, mouse movements, data on network etc."
   ]
  },
  {
   "cell_type": "raw",
   "id": "5ce1dac9",
   "metadata": {},
   "source": [
    "We do not need truly random numbers, unless its related to security (e.g. encryption keys) or the basis of application is the randomness (e.g. Digital roulette wheels)."
   ]
  },
  {
   "cell_type": "raw",
   "id": "e0c73370",
   "metadata": {},
   "source": [
    "In this tutorial we will be using pseudo random numbers."
   ]
  },
  {
   "cell_type": "markdown",
   "id": "025f19fa",
   "metadata": {},
   "source": [
    "# Generate Random Number"
   ]
  },
  {
   "cell_type": "raw",
   "id": "6e617198",
   "metadata": {},
   "source": [
    "NumPy offers the random module to work with random numbers."
   ]
  },
  {
   "cell_type": "code",
   "execution_count": 1,
   "id": "f1c71e03",
   "metadata": {},
   "outputs": [
    {
     "name": "stdout",
     "output_type": "stream",
     "text": [
      "25\n"
     ]
    }
   ],
   "source": [
    "# Generate a random integer from 0 to 100:\n",
    "\n",
    "from numpy import random\n",
    "\n",
    "x = random.randint(100)\n",
    "\n",
    "print(x) "
   ]
  },
  {
   "cell_type": "markdown",
   "id": "f11093e6",
   "metadata": {},
   "source": [
    "# Generate Random Float"
   ]
  },
  {
   "cell_type": "raw",
   "id": "74bf05d3",
   "metadata": {},
   "source": [
    "The random module's rand() method returns a random float between 0 and 1."
   ]
  },
  {
   "cell_type": "code",
   "execution_count": 2,
   "id": "ef5b9f25",
   "metadata": {},
   "outputs": [
    {
     "name": "stdout",
     "output_type": "stream",
     "text": [
      "0.7524891755631804\n"
     ]
    }
   ],
   "source": [
    "# Generate a random float from 0 to 1:\n",
    "\n",
    "from numpy import random\n",
    "\n",
    "x = random.rand()\n",
    "\n",
    "print(x) "
   ]
  },
  {
   "cell_type": "markdown",
   "id": "be85545a",
   "metadata": {},
   "source": [
    "# Generate Random Array"
   ]
  },
  {
   "cell_type": "raw",
   "id": "41a7f6fd",
   "metadata": {},
   "source": [
    "In NumPy we work with arrays, and you can use the two methods from the above examples to make random arrays."
   ]
  },
  {
   "cell_type": "markdown",
   "id": "cd7d0009",
   "metadata": {},
   "source": [
    "# Integers"
   ]
  },
  {
   "cell_type": "raw",
   "id": "e858b1ba",
   "metadata": {},
   "source": [
    "The randint() method takes a size parameter where you can specify the shape of an array."
   ]
  },
  {
   "cell_type": "code",
   "execution_count": 3,
   "id": "8c2aa906",
   "metadata": {},
   "outputs": [
    {
     "name": "stdout",
     "output_type": "stream",
     "text": [
      "[ 8 66 68 10 67]\n"
     ]
    }
   ],
   "source": [
    "#Generate a 1-D array containing 5 random integers from 0 to 100:\n",
    "\n",
    "from numpy import random\n",
    "\n",
    "x=random.randint(100, size=(5))\n",
    "\n",
    "print(x) "
   ]
  },
  {
   "cell_type": "code",
   "execution_count": 4,
   "id": "81e55d31",
   "metadata": {},
   "outputs": [
    {
     "name": "stdout",
     "output_type": "stream",
     "text": [
      "[[94 22 19 43 27]\n",
      " [ 5 49 74 92 47]\n",
      " [92 95 35 66 54]]\n"
     ]
    }
   ],
   "source": [
    "#Generate a 2-D array with 3 rows, each row containing 5 random integers from 0 to 100:\n",
    "\n",
    "from numpy import random\n",
    "\n",
    "x = random.randint(100, size=(3, 5))\n",
    "\n",
    "print(x) "
   ]
  },
  {
   "cell_type": "markdown",
   "id": "4ca06615",
   "metadata": {},
   "source": [
    "# Floats"
   ]
  },
  {
   "cell_type": "raw",
   "id": "aca071b3",
   "metadata": {},
   "source": [
    "The rand() method also allows you to specify the shape of the array."
   ]
  },
  {
   "cell_type": "code",
   "execution_count": 5,
   "id": "7cd91b14",
   "metadata": {},
   "outputs": [
    {
     "name": "stdout",
     "output_type": "stream",
     "text": [
      "[0.79166116 0.95886386 0.5032269  0.98434939 0.94176374]\n"
     ]
    }
   ],
   "source": [
    "# Generate a 1-D array containing 5 random floats:\n",
    "\n",
    "from numpy import random\n",
    "\n",
    "x = random.rand(5)\n",
    "\n",
    "print(x) "
   ]
  },
  {
   "cell_type": "code",
   "execution_count": 6,
   "id": "486592d8",
   "metadata": {},
   "outputs": [
    {
     "name": "stdout",
     "output_type": "stream",
     "text": [
      "[[0.31162161 0.23838086 0.58994592 0.48878364 0.02301339]\n",
      " [0.61092688 0.95546475 0.29367132 0.23111439 0.68942371]\n",
      " [0.88196486 0.28530967 0.80967313 0.74649741 0.35777742]]\n"
     ]
    }
   ],
   "source": [
    "# Generate a 2-D array with 3 rows, each row containing 5 random numbers:\n",
    "\n",
    "from numpy import random\n",
    "\n",
    "x = random.rand(3, 5)\n",
    "\n",
    "print(x) "
   ]
  },
  {
   "cell_type": "markdown",
   "id": "cbefdacf",
   "metadata": {},
   "source": [
    "# Generate Random Number From Array"
   ]
  },
  {
   "cell_type": "raw",
   "id": "acb4ba98",
   "metadata": {},
   "source": [
    "The choice() method allows you to generate a random value based on an array of values."
   ]
  },
  {
   "cell_type": "raw",
   "id": "b471bd78",
   "metadata": {},
   "source": [
    "The choice() method takes an array as a parameter and randomly returns one of the values."
   ]
  },
  {
   "cell_type": "code",
   "execution_count": 7,
   "id": "7f138bf9",
   "metadata": {},
   "outputs": [
    {
     "name": "stdout",
     "output_type": "stream",
     "text": [
      "5\n"
     ]
    }
   ],
   "source": [
    "# Return one of the values in an array:\n",
    "\n",
    "from numpy import random\n",
    "\n",
    "x = random.choice([3, 5, 7, 9])\n",
    "\n",
    "print(x) "
   ]
  },
  {
   "cell_type": "raw",
   "id": "fa829cdc",
   "metadata": {},
   "source": [
    "The choice() method also allows you to return an array of values."
   ]
  },
  {
   "cell_type": "raw",
   "id": "8d646462",
   "metadata": {},
   "source": [
    "Add a size parameter to specify the shape of the array."
   ]
  },
  {
   "cell_type": "code",
   "execution_count": 8,
   "id": "4764f758",
   "metadata": {},
   "outputs": [
    {
     "name": "stdout",
     "output_type": "stream",
     "text": [
      "[[9 7 9 9 7]\n",
      " [9 3 5 3 9]\n",
      " [7 7 3 7 9]]\n"
     ]
    }
   ],
   "source": [
    "# Generate a 2-D array that consists of the values in the array parameter (3, 5, 7, and 9):\n",
    "\n",
    "from numpy import random\n",
    "\n",
    "x = random.choice([3, 5, 7, 9], size=(3, 5))\n",
    "\n",
    "print(x) "
   ]
  }
 ],
 "metadata": {
  "kernelspec": {
   "display_name": "Python 3",
   "language": "python",
   "name": "python3"
  },
  "language_info": {
   "codemirror_mode": {
    "name": "ipython",
    "version": 3
   },
   "file_extension": ".py",
   "mimetype": "text/x-python",
   "name": "python",
   "nbconvert_exporter": "python",
   "pygments_lexer": "ipython3",
   "version": "3.8.8"
  }
 },
 "nbformat": 4,
 "nbformat_minor": 5
}
