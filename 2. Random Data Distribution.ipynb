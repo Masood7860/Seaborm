{
 "cells": [
  {
   "cell_type": "markdown",
   "id": "f08dd825",
   "metadata": {},
   "source": [
    "# Random Data Distribution"
   ]
  },
  {
   "cell_type": "markdown",
   "id": "93a9e026",
   "metadata": {},
   "source": [
    "# What is Data Distribution?"
   ]
  },
  {
   "cell_type": "raw",
   "id": "c775bc7a",
   "metadata": {},
   "source": [
    "Data Distribution is a list of all possible values, and how often each value occurs."
   ]
  },
  {
   "cell_type": "raw",
   "id": "8008588d",
   "metadata": {},
   "source": [
    "Such lists are important when working with statistics and data science."
   ]
  },
  {
   "cell_type": "raw",
   "id": "d8133067",
   "metadata": {},
   "source": [
    "The random module offer methods that returns randomly generated data distributions."
   ]
  },
  {
   "cell_type": "markdown",
   "id": "0e005ae4",
   "metadata": {},
   "source": [
    "# Random Distribution"
   ]
  },
  {
   "cell_type": "raw",
   "id": "5debbc0a",
   "metadata": {},
   "source": [
    "A random distribution is a set of random numbers that follow a certain probability density function."
   ]
  },
  {
   "cell_type": "raw",
   "id": "b66ded26",
   "metadata": {},
   "source": [
    "Probability Density Function: A function that describes a continuous probability. i.e. probability of all values in an array."
   ]
  },
  {
   "cell_type": "raw",
   "id": "503b97ae",
   "metadata": {},
   "source": [
    "We can generate random numbers based on defined probabilities using the choice() method of the random module."
   ]
  },
  {
   "cell_type": "raw",
   "id": "2171307c",
   "metadata": {},
   "source": [
    "The choice() method allows us to specify the probability for each value."
   ]
  },
  {
   "cell_type": "raw",
   "id": "6bba627f",
   "metadata": {},
   "source": [
    "The probability is set by a number between 0 and 1, where 0 means that the value will never occur and 1 means that the value will always occur."
   ]
  },
  {
   "cell_type": "code",
   "execution_count": 1,
   "id": "e01ce807",
   "metadata": {},
   "outputs": [
    {
     "name": "stdout",
     "output_type": "stream",
     "text": [
      "[7 5 7 7 5 7 7 3 7 5 5 3 7 5 7 7 7 7 7 7 7 7 7 7 7 7 7 5 5 5 5 7 5 7 3 3 5\n",
      " 7 7 7 3 7 5 5 7 7 7 3 5 7 3 5 7 3 5 5 7 3 5 7 7 5 7 5 5 7 5 5 5 7 5 7 3 7\n",
      " 3 5 5 7 7 5 7 7 7 7 7 7 5 3 7 7 7 7 7 7 7 7 3 5 7 5]\n"
     ]
    }
   ],
   "source": [
    "# Generate a 1-D array containing 100 values, where each value has to be 3, 5, 7 or 9.\n",
    "\n",
    "# The probability for the value to be 3 is set to be 0.1\n",
    "\n",
    "# The probability for the value to be 5 is set to be 0.3\n",
    "\n",
    "# The probability for the value to be 7 is set to be 0.6\n",
    "\n",
    "# The probability for the value to be 9 is set to be 0\n",
    "\n",
    "from numpy import random\n",
    "\n",
    "x = random.choice([3, 5, 7, 9], p=[0.1, 0.3, 0.6, 0.0], size=(100))\n",
    "\n",
    "print(x) "
   ]
  },
  {
   "cell_type": "raw",
   "id": "19fbad1e",
   "metadata": {},
   "source": [
    "The sum of all probability numbers should be 1."
   ]
  },
  {
   "cell_type": "raw",
   "id": "89c9cbf2",
   "metadata": {},
   "source": [
    "Even if you run the example above 100 times, the value 9 will never occur."
   ]
  },
  {
   "cell_type": "raw",
   "id": "8e7a8a0b",
   "metadata": {},
   "source": [
    "You can return arrays of any shape and size by specifying the shape in the size parameter."
   ]
  },
  {
   "cell_type": "code",
   "execution_count": 2,
   "id": "8caee11f",
   "metadata": {},
   "outputs": [
    {
     "name": "stdout",
     "output_type": "stream",
     "text": [
      "[[5 7 7 5 7]\n",
      " [5 7 5 7 5]\n",
      " [7 5 5 3 7]]\n"
     ]
    }
   ],
   "source": [
    "# Same example as above, but return a 2-D array with 3 rows, each containing 5 values.\n",
    "\n",
    "from numpy import random\n",
    "\n",
    "x = random.choice([3, 5, 7, 9], p=[0.1, 0.3, 0.6, 0.0], size=(3, 5))\n",
    "\n",
    "print(x) "
   ]
  }
 ],
 "metadata": {
  "kernelspec": {
   "display_name": "Python 3",
   "language": "python",
   "name": "python3"
  },
  "language_info": {
   "codemirror_mode": {
    "name": "ipython",
    "version": 3
   },
   "file_extension": ".py",
   "mimetype": "text/x-python",
   "name": "python",
   "nbconvert_exporter": "python",
   "pygments_lexer": "ipython3",
   "version": "3.8.8"
  }
 },
 "nbformat": 4,
 "nbformat_minor": 5
}
