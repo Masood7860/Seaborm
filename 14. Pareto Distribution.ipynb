{
 "cells": [
  {
   "cell_type": "markdown",
   "id": "67f13bba",
   "metadata": {},
   "source": [
    "# Pareto Distribution"
   ]
  },
  {
   "cell_type": "raw",
   "id": "ba11e5e4",
   "metadata": {},
   "source": [
    "A distribution following Pareto's law i.e. 80-20 distribution (20% factors cause 80% outcome)."
   ]
  },
  {
   "cell_type": "raw",
   "id": "643e0674",
   "metadata": {},
   "source": [
    "It has two parameter:\n",
    "\n",
    "a - shape parameter.\n",
    "\n",
    "size - The shape of the returned array."
   ]
  },
  {
   "cell_type": "code",
   "execution_count": 1,
   "id": "756bddab",
   "metadata": {},
   "outputs": [
    {
     "name": "stdout",
     "output_type": "stream",
     "text": [
      "[[0.92753754 3.64451474 0.30325177]\n",
      " [1.54717158 1.01704964 0.07383992]]\n"
     ]
    }
   ],
   "source": [
    "# Draw out a sample for pareto distribution with shape of 2 with size 2x3:\n",
    "\n",
    "from numpy import random\n",
    "\n",
    "x = random.pareto(a=2, size=(2, 3))\n",
    "\n",
    "print(x) "
   ]
  },
  {
   "cell_type": "markdown",
   "id": "c84b846f",
   "metadata": {},
   "source": [
    "# Visualization of Pareto Distribution"
   ]
  },
  {
   "cell_type": "code",
   "execution_count": 2,
   "id": "f3e03596",
   "metadata": {},
   "outputs": [
    {
     "name": "stderr",
     "output_type": "stream",
     "text": [
      "C:\\Users\\DELL\\anaconda3\\lib\\site-packages\\seaborn\\distributions.py:2557: FutureWarning: `distplot` is a deprecated function and will be removed in a future version. Please adapt your code to use either `displot` (a figure-level function with similar flexibility) or `histplot` (an axes-level function for histograms).\n",
      "  warnings.warn(msg, FutureWarning)\n"
     ]
    },
    {
     "data": {
      "image/png": "[encoded data removed]",
      "text/plain": [
       "<Figure size 432x288 with 1 Axes>"
      ]
     },
     "metadata": {
      "needs_background": "light"
     },
     "output_type": "display_data"
    }
   ],
   "source": [
    "from numpy import random\n",
    "import matplotlib.pyplot as plt\n",
    "import seaborn as sns\n",
    "\n",
    "sns.distplot(random.pareto(a=2, size=1000), kde=False)\n",
    "\n",
    "plt.show() "
   ]
  }
 ],
 "metadata": {
  "kernelspec": {
   "display_name": "Python 3",
   "language": "python",
   "name": "python3"
  },
  "language_info": {
   "codemirror_mode": {
    "name": "ipython",
    "version": 3
   },
   "file_extension": ".py",
   "mimetype": "text/x-python",
   "name": "python",
   "nbconvert_exporter": "python",
   "pygments_lexer": "ipython3",
   "version": "3.8.8"
  }
 },
 "nbformat": 4,
 "nbformat_minor": 5
}
