{
 "cells": [
  {
   "cell_type": "markdown",
   "id": "a0ee2180",
   "metadata": {},
   "source": [
    "# Rayleigh Distribution"
   ]
  },
  {
   "cell_type": "raw",
   "id": "ba348e40",
   "metadata": {},
   "source": [
    "Rayleigh distribution is used in signal processing."
   ]
  },
  {
   "cell_type": "raw",
   "id": "95433252",
   "metadata": {},
   "source": [
    "It has two parameters:\n",
    "\n",
    "scale - (standard deviation) decides how flat the distribution will be default 1.0).\n",
    "\n",
    "size - The shape of the returned array."
   ]
  },
  {
   "cell_type": "code",
   "execution_count": 1,
   "id": "aad0a69d",
   "metadata": {},
   "outputs": [
    {
     "name": "stdout",
     "output_type": "stream",
     "text": [
      "[[2.05269133 1.22872871 1.75875525]\n",
      " [3.50307909 1.0859435  2.84815854]]\n"
     ]
    }
   ],
   "source": [
    "# Draw out a sample for rayleigh distribution with scale of 2 with size 2x3:\n",
    "\n",
    "from numpy import random\n",
    "\n",
    "x = random.rayleigh(scale=2, size=(2, 3))\n",
    "\n",
    "print(x) "
   ]
  },
  {
   "cell_type": "markdown",
   "id": "5b151c8a",
   "metadata": {},
   "source": [
    "# Visualization of Rayleigh Distribution"
   ]
  },
  {
   "cell_type": "code",
   "execution_count": 2,
   "id": "5d3da29e",
   "metadata": {},
   "outputs": [
    {
     "name": "stderr",
     "output_type": "stream",
     "text": [
      "C:\\Users\\DELL\\anaconda3\\lib\\site-packages\\seaborn\\distributions.py:2557: FutureWarning: `distplot` is a deprecated function and will be removed in a future version. Please adapt your code to use either `displot` (a figure-level function with similar flexibility) or `kdeplot` (an axes-level function for kernel density plots).\n",
      "  warnings.warn(msg, FutureWarning)\n"
     ]
    },
    {
     "data": {
      "image/png": "[encoded data removed]",
      "text/plain": [
       "<Figure size 432x288 with 1 Axes>"
      ]
     },
     "metadata": {
      "needs_background": "light"
     },
     "output_type": "display_data"
    }
   ],
   "source": [
    "from numpy import random\n",
    "import matplotlib.pyplot as plt\n",
    "import seaborn as sns\n",
    "\n",
    "sns.distplot(random.rayleigh(size=1000), hist=False)\n",
    "\n",
    "plt.show() "
   ]
  },
  {
   "cell_type": "markdown",
   "id": "7f6a9353",
   "metadata": {},
   "source": [
    "# Similarity Between Rayleigh and Chi Square Distribution"
   ]
  },
  {
   "cell_type": "raw",
   "id": "e2c30516",
   "metadata": {},
   "source": [
    " At unit stddev and 2 degrees of freedom rayleigh and chi square represent the same distributions. "
   ]
  }
 ],
 "metadata": {
  "kernelspec": {
   "display_name": "Python 3",
   "language": "python",
   "name": "python3"
  },
  "language_info": {
   "codemirror_mode": {
    "name": "ipython",
    "version": 3
   },
   "file_extension": ".py",
   "mimetype": "text/x-python",
   "name": "python",
   "nbconvert_exporter": "python",
   "pygments_lexer": "ipython3",
   "version": "3.8.8"
  }
 },
 "nbformat": 4,
 "nbformat_minor": 5
}
